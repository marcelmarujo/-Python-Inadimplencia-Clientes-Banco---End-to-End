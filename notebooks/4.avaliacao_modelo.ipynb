{
 "cells": [
  {
   "cell_type": "code",
   "execution_count": null,
   "metadata": {},
   "outputs": [],
   "source": [
    "import pandas as pd\n",
    "from sklearn.metrics import classification_report\n",
    "import joblib\n",
    "\n",
    "# Carregar o modelo e os dados de teste\n",
    "modelo = joblib.load('C:/Users/Marcel/Desktop/Marcel/financial-default-prediction/modelos/modelo_inadimplencia.pkl')\n",
    "df_features = pd.read_csv('C:/Users/Marcel/Desktop/Marcel/financial-default-prediction/dados/features/features_clientes.csv')\n",
    "df_target = pd.read_csv('C:/Users/Marcel/Desktop/Marcel/financial-default-prediction/dados/processados/dados_clientes_transformados.csv')['inadimplencia']\n",
    "\n",
    "# Fazer previsões\n",
    "y_pred = modelo.predict(df_features)\n",
    "\n",
    "# Avaliar o modelo\n",
    "relatorio = classification_report(df_target, y_pred)\n",
    "print(relatorio)\n"
   ]
  }
 ],
 "metadata": {
  "language_info": {
   "name": "python"
  }
 },
 "nbformat": 4,
 "nbformat_minor": 2
}
